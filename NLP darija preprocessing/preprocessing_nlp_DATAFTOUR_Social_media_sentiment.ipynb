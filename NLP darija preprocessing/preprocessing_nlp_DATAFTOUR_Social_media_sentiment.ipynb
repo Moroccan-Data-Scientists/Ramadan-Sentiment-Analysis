{
  "cells": [
    {
      "cell_type": "markdown",
      "id": "4bb20a1f",
      "metadata": {
        "id": "4bb20a1f"
      },
      "source": [
        "# Import all datasets"
      ]
    },
    {
      "cell_type": "code",
      "execution_count": null,
      "id": "9de92d98",
      "metadata": {
        "id": "9de92d98"
      },
      "outputs": [],
      "source": [
        "\n",
        "import pandas as pd\n",
        "import os\n",
        "\n",
        "#import the datasets\n",
        "folder=\"C:/Users/sejja/Downloads/Compressed/cleaned_data/cleaned_data/\"\n",
        "\n",
        "df_facebook=pd.read_csv(folder+\"facebook_clean.csv\")\n",
        "\n",
        "df_twitter=pd.read_csv(folder+\"twitter_clean.csv\")\n",
        "df_hespress=pd.read_csv(folder+\"hespress_clean.csv\")\n",
        "df_youtube=pd.read_csv(folder+\"youtube_clean.csv\")\n",
        "\n",
        "df_facebook.columns,df_twitter.columns,df_hespress.columns,df_youtube.columns\n"
      ]
    },
    {
      "cell_type": "markdown",
      "id": "9289f31d",
      "metadata": {
        "id": "9289f31d"
      },
      "source": [
        "## Normalisation"
      ]
    },
    {
      "cell_type": "code",
      "execution_count": null,
      "id": "002f5eb1",
      "metadata": {
        "id": "002f5eb1"
      },
      "outputs": [],
      "source": [
        "\n",
        "\n",
        "# Rename columns to match\n",
        "df_twitter = df_twitter.rename(columns={'Content': 'Comment'})\n",
        "df_twitter = df_twitter.rename(columns={'language': 'Language'})\n",
        "df_youtube = df_youtube.rename(columns={'Comment Date': 'Date'})\n",
        "\n",
        "# Select only the desired columns\n",
        "df_facebook = df_facebook[['Comment', 'Date', 'Language', 'source']]\n",
        "df_twitter = df_twitter[['Comment', 'Date', 'Language', 'source']]\n",
        "df_hespress = df_hespress[['Comment', 'Date', 'Language', 'source']]\n",
        "df_youtube = df_youtube[['Comment', 'Date', 'Language', 'source']]\n",
        "\n",
        "\n",
        "# Concatenate the dataframes\n",
        "df_merge = pd.concat([df_facebook, df_twitter, df_hespress, df_youtube], ignore_index=True)\n"
      ]
    },
    {
      "cell_type": "code",
      "execution_count": null,
      "id": "0c2e0f0e",
      "metadata": {
        "id": "0c2e0f0e",
        "outputId": "200be31c-b2cf-4816-efc6-c93bb4ba91fa"
      },
      "outputs": [
        {
          "data": {
            "text/html": [
              "<div>\n",
              "<style scoped>\n",
              "    .dataframe tbody tr th:only-of-type {\n",
              "        vertical-align: middle;\n",
              "    }\n",
              "\n",
              "    .dataframe tbody tr th {\n",
              "        vertical-align: top;\n",
              "    }\n",
              "\n",
              "    .dataframe thead th {\n",
              "        text-align: right;\n",
              "    }\n",
              "</style>\n",
              "<table border=\"1\" class=\"dataframe\">\n",
              "  <thead>\n",
              "    <tr style=\"text-align: right;\">\n",
              "      <th></th>\n",
              "      <th>Comment</th>\n",
              "      <th>Date</th>\n",
              "      <th>Language</th>\n",
              "      <th>source</th>\n",
              "    </tr>\n",
              "  </thead>\n",
              "  <tbody>\n",
              "    <tr>\n",
              "      <th>0</th>\n",
              "      <td>أحببتكم ❤ نريد مزيدا من  هذه المقاطع ❤</td>\n",
              "      <td>2024-03-31T12:16:26Z</td>\n",
              "      <td>ar</td>\n",
              "      <td>Youtube</td>\n",
              "    </tr>\n",
              "    <tr>\n",
              "      <th>1</th>\n",
              "      <td>yeah كذاب😂😂</td>\n",
              "      <td>2024-03-31T05:00:08Z</td>\n",
              "      <td>ar</td>\n",
              "      <td>Youtube</td>\n",
              "    </tr>\n",
              "    <tr>\n",
              "      <th>2</th>\n",
              "      <td>معرفتشي على المغربيات  رخیصات  بزاف وخاصتا تعا...</td>\n",
              "      <td>2024-03-31T03:26:13Z</td>\n",
              "      <td>ar</td>\n",
              "      <td>Youtube</td>\n",
              "    </tr>\n",
              "    <tr>\n",
              "      <th>3</th>\n",
              "      <td>حبيييت ❤❤</td>\n",
              "      <td>2024-03-31T01:59:41Z</td>\n",
              "      <td>ar</td>\n",
              "      <td>Youtube</td>\n",
              "    </tr>\n",
              "    <tr>\n",
              "      <th>4</th>\n",
              "      <td>دوي لينا على كيفاش تعلمتي لونغلي</td>\n",
              "      <td>2024-03-30T23:34:36Z</td>\n",
              "      <td>ar</td>\n",
              "      <td>Youtube</td>\n",
              "    </tr>\n",
              "    <tr>\n",
              "      <th>...</th>\n",
              "      <td>...</td>\n",
              "      <td>...</td>\n",
              "      <td>...</td>\n",
              "      <td>...</td>\n",
              "    </tr>\n",
              "    <tr>\n",
              "      <th>165719</th>\n",
              "      <td>wa akhiraannnnn❤</td>\n",
              "      <td>2024-03-26T18:32:23Z</td>\n",
              "      <td>fr</td>\n",
              "      <td>Youtube</td>\n",
              "    </tr>\n",
              "    <tr>\n",
              "      <th>165720</th>\n",
              "      <td>جوجو ضريف 😅 مشاء الله عليكم</td>\n",
              "      <td>2024-03-26T18:11:54Z</td>\n",
              "      <td>ar</td>\n",
              "      <td>Youtube</td>\n",
              "    </tr>\n",
              "    <tr>\n",
              "      <th>165721</th>\n",
              "      <td>you guys look so cute 😭</td>\n",
              "      <td>2024-03-26T18:10:39Z</td>\n",
              "      <td>fr</td>\n",
              "      <td>Youtube</td>\n",
              "    </tr>\n",
              "    <tr>\n",
              "      <th>165722</th>\n",
              "      <td>كنفكر شنو نكتب باش ياخذ تعليقي اكبر عدد من الل...</td>\n",
              "      <td>2024-03-26T18:08:31Z</td>\n",
              "      <td>ar</td>\n",
              "      <td>Youtube</td>\n",
              "    </tr>\n",
              "    <tr>\n",
              "      <th>165723</th>\n",
              "      <td>ما شاء الله</td>\n",
              "      <td>2024-03-20T23:32:09Z</td>\n",
              "      <td>ar</td>\n",
              "      <td>Youtube</td>\n",
              "    </tr>\n",
              "  </tbody>\n",
              "</table>\n",
              "<p>165724 rows × 4 columns</p>\n",
              "</div>"
            ],
            "text/plain": [
              "                                                  Comment  \\\n",
              "0                  أحببتكم ❤ نريد مزيدا من  هذه المقاطع ❤   \n",
              "1                                             yeah كذاب😂😂   \n",
              "2       معرفتشي على المغربيات  رخیصات  بزاف وخاصتا تعا...   \n",
              "3                                               حبيييت ❤❤   \n",
              "4                        دوي لينا على كيفاش تعلمتي لونغلي   \n",
              "...                                                   ...   \n",
              "165719                                   wa akhiraannnnn❤   \n",
              "165720                        جوجو ضريف 😅 مشاء الله عليكم   \n",
              "165721                            you guys look so cute 😭   \n",
              "165722  كنفكر شنو نكتب باش ياخذ تعليقي اكبر عدد من الل...   \n",
              "165723                                        ما شاء الله   \n",
              "\n",
              "                        Date Language   source  \n",
              "0       2024-03-31T12:16:26Z       ar  Youtube  \n",
              "1       2024-03-31T05:00:08Z       ar  Youtube  \n",
              "2       2024-03-31T03:26:13Z       ar  Youtube  \n",
              "3       2024-03-31T01:59:41Z       ar  Youtube  \n",
              "4       2024-03-30T23:34:36Z       ar  Youtube  \n",
              "...                      ...      ...      ...  \n",
              "165719  2024-03-26T18:32:23Z       fr  Youtube  \n",
              "165720  2024-03-26T18:11:54Z       ar  Youtube  \n",
              "165721  2024-03-26T18:10:39Z       fr  Youtube  \n",
              "165722  2024-03-26T18:08:31Z       ar  Youtube  \n",
              "165723  2024-03-20T23:32:09Z       ar  Youtube  \n",
              "\n",
              "[165724 rows x 4 columns]"
            ]
          },
          "execution_count": 95,
          "metadata": {},
          "output_type": "execute_result"
        }
      ],
      "source": [
        "df_youtube"
      ]
    },
    {
      "cell_type": "code",
      "execution_count": null,
      "id": "64a4e9a1",
      "metadata": {
        "id": "64a4e9a1",
        "outputId": "9073073a-7d4c-4758-b55c-079e985ec8c0"
      },
      "outputs": [
        {
          "data": {
            "text/plain": [
              "<Axes: >"
            ]
          },
          "execution_count": 96,
          "metadata": {},
          "output_type": "execute_result"
        },
        {
          "data": {
            "image/png": "[encoded data removed]",
            "text/plain": [
              "<Figure size 640x480 with 1 Axes>"
            ]
          },
          "metadata": {},
          "output_type": "display_data"
        }
      ],
      "source": [
        "df_merge.isnull().sum().plot(kind='bar')\n"
      ]
    },
    {
      "cell_type": "markdown",
      "id": "1d0b9583",
      "metadata": {
        "id": "1d0b9583"
      },
      "source": [
        "### Replace null values in the 'Language' column with 'ar'\n"
      ]
    },
    {
      "cell_type": "code",
      "execution_count": null,
      "id": "ce9273af",
      "metadata": {
        "id": "ce9273af"
      },
      "outputs": [],
      "source": [
        "# Replace null values in the 'Language' column with 'ar'\n",
        "df_merge['Language'].fillna('ar', inplace=True)\n",
        "\n",
        "# Drop rows with null values in the 'Date' column\n",
        "df_merge.dropna(subset=['Date'], inplace=True)"
      ]
    },
    {
      "cell_type": "markdown",
      "id": "ffdfdeab",
      "metadata": {
        "id": "ffdfdeab"
      },
      "source": [
        "### Delete  comments with more less than  2 word"
      ]
    },
    {
      "cell_type": "code",
      "execution_count": null,
      "id": "b1009ccb",
      "metadata": {
        "id": "b1009ccb"
      },
      "outputs": [],
      "source": [
        "df_merge = df_merge[df_merge['Comment'].str.split().str.len() >= 2]\n"
      ]
    },
    {
      "cell_type": "code",
      "execution_count": null,
      "id": "cc4bec7d",
      "metadata": {
        "id": "cc4bec7d",
        "outputId": "b7ab75e3-b08c-4e24-cc3b-f75456443e9c"
      },
      "outputs": [
        {
          "data": {
            "text/plain": [
              "0"
            ]
          },
          "execution_count": 101,
          "metadata": {},
          "output_type": "execute_result"
        }
      ],
      "source": [
        "df_merge.isnull().sum().sum()\n"
      ]
    },
    {
      "cell_type": "code",
      "execution_count": null,
      "id": "56502289",
      "metadata": {
        "id": "56502289",
        "outputId": "256e82d5-33a4-4934-c5d3-a47acfde2f18"
      },
      "outputs": [
        {
          "data": {
            "text/plain": [
              "(161781, 4)"
            ]
          },
          "execution_count": 113,
          "metadata": {},
          "output_type": "execute_result"
        }
      ],
      "source": [
        "df_merge.shape"
      ]
    },
    {
      "cell_type": "code",
      "execution_count": null,
      "id": "486299e3",
      "metadata": {
        "id": "486299e3",
        "outputId": "e977b995-97ab-4fe7-85d8-abc6f52471b7"
      },
      "outputs": [
        {
          "data": {
            "text/plain": [
              "<Axes: >"
            ]
          },
          "execution_count": 103,
          "metadata": {},
          "output_type": "execute_result"
        },
        {
          "data": {
            "image/png": "[encoded data removed]",
            "text/plain": [
              "<Figure size 640x480 with 1 Axes>"
            ]
          },
          "metadata": {},
          "output_type": "display_data"
        }
      ],
      "source": [
        "columns= df_merge.columns\n",
        "\n",
        "df_merge[columns[2]].value_counts().plot(kind='bar')"
      ]
    },
    {
      "cell_type": "code",
      "execution_count": null,
      "id": "5282dbc7",
      "metadata": {
        "id": "5282dbc7",
        "outputId": "ccfdd651-6f1d-4a6b-d9a6-8a01befe1272"
      },
      "outputs": [
        {
          "data": {
            "text/plain": [
              "<Axes: >"
            ]
          },
          "execution_count": 104,
          "metadata": {},
          "output_type": "execute_result"
        },
        {
          "data": {
            "image/png": "[encoded data removed]",
            "text/plain": [
              "<Figure size 640x480 with 1 Axes>"
            ]
          },
          "metadata": {},
          "output_type": "display_data"
        }
      ],
      "source": [
        "df_merge[columns[3]].value_counts().plot(kind='bar')"
      ]
    },
    {
      "cell_type": "code",
      "execution_count": null,
      "id": "aef5816c",
      "metadata": {
        "collapsed": true,
        "id": "aef5816c",
        "outputId": "c5eebfb2-a369-4d81-df96-0c1fa381b338"
      },
      "outputs": [
        {
          "ename": "IndexError",
          "evalue": "index 4 is out of bounds for axis 0 with size 4",
          "output_type": "error",
          "traceback": [
            "\u001b[1;31m---------------------------------------------------------------------------\u001b[0m",
            "\u001b[1;31mIndexError\u001b[0m                                Traceback (most recent call last)",
            "Cell \u001b[1;32mIn[21], line 1\u001b[0m\n\u001b[1;32m----> 1\u001b[0m df_merge[columns[\u001b[38;5;241m4\u001b[39m]]\u001b[38;5;241m.\u001b[39mvalue_counts()\u001b[38;5;241m.\u001b[39mplot(kind\u001b[38;5;241m=\u001b[39m\u001b[38;5;124m'\u001b[39m\u001b[38;5;124mbar\u001b[39m\u001b[38;5;124m'\u001b[39m)\n",
            "File \u001b[1;32m~\\anaconda3\\Lib\\site-packages\\pandas\\core\\indexes\\base.py:5320\u001b[0m, in \u001b[0;36mIndex.__getitem__\u001b[1;34m(self, key)\u001b[0m\n\u001b[0;32m   5317\u001b[0m \u001b[38;5;28;01mif\u001b[39;00m is_integer(key) \u001b[38;5;129;01mor\u001b[39;00m is_float(key):\n\u001b[0;32m   5318\u001b[0m     \u001b[38;5;66;03m# GH#44051 exclude bool, which would return a 2d ndarray\u001b[39;00m\n\u001b[0;32m   5319\u001b[0m     key \u001b[38;5;241m=\u001b[39m com\u001b[38;5;241m.\u001b[39mcast_scalar_indexer(key, warn_float\u001b[38;5;241m=\u001b[39m\u001b[38;5;28;01mTrue\u001b[39;00m)\n\u001b[1;32m-> 5320\u001b[0m     \u001b[38;5;28;01mreturn\u001b[39;00m getitem(key)\n\u001b[0;32m   5322\u001b[0m \u001b[38;5;28;01mif\u001b[39;00m \u001b[38;5;28misinstance\u001b[39m(key, \u001b[38;5;28mslice\u001b[39m):\n\u001b[0;32m   5323\u001b[0m     \u001b[38;5;66;03m# This case is separated from the conditional above to avoid\u001b[39;00m\n\u001b[0;32m   5324\u001b[0m     \u001b[38;5;66;03m# pessimization com.is_bool_indexer and ndim checks.\u001b[39;00m\n\u001b[0;32m   5325\u001b[0m     result \u001b[38;5;241m=\u001b[39m getitem(key)\n",
            "\u001b[1;31mIndexError\u001b[0m: index 4 is out of bounds for axis 0 with size 4"
          ]
        }
      ],
      "source": []
    },
    {
      "cell_type": "markdown",
      "id": "89ad95cc",
      "metadata": {
        "id": "89ad95cc"
      },
      "source": [
        "# saving data"
      ]
    },
    {
      "cell_type": "code",
      "execution_count": null,
      "id": "46dd6883",
      "metadata": {
        "id": "46dd6883"
      },
      "outputs": [],
      "source": [
        "datasetFr=df_merge[df_merge['Language']=='fr']\n",
        "datasetAr=df_merge[df_merge['Language']=='ar']\n",
        "datasetFr.to_csv(\"dataset_fr.csv\")\n",
        "datasetAr.to_csv(\"dataset_ar.csv\")"
      ]
    },
    {
      "cell_type": "code",
      "execution_count": null,
      "id": "a9c9b2be",
      "metadata": {
        "id": "a9c9b2be"
      },
      "outputs": [],
      "source": [
        "df_merge.to_csv('merge_data.csv')"
      ]
    },
    {
      "cell_type": "markdown",
      "id": "b0b25de4",
      "metadata": {
        "id": "b0b25de4"
      },
      "source": [
        "# Preprocessing and Cleaning\n"
      ]
    },
    {
      "cell_type": "code",
      "execution_count": null,
      "id": "ecfba117",
      "metadata": {
        "id": "ecfba117",
        "outputId": "49801e0b-5567-4a1e-bddd-d8ba70931167"
      },
      "outputs": [
        {
          "name": "stdout",
          "output_type": "stream",
          "text": [
            "Moroccan Darija Dataset:\n",
            "               0\n",
            "0           بيرا\n",
            "1        ثلاثمئة\n",
            "2          خبَّر\n",
            "3  تلاتا و عشرين\n",
            "4            ستا\n",
            "\n",
            "Emoji Dataset:\n",
            "  emoji              text\n",
            "0     🎃         جاك فانوس\n",
            "1     🎄  شجرة عيد الميلاد\n",
            "2     🎆       العاب ناريه\n",
            "3     🎇            الماسة\n",
            "4     🧨      مفرقعة نارية\n"
          ]
        }
      ],
      "source": [
        "import pandas as pd\n",
        "import pandas as pd\n",
        "import json\n",
        "import re\n",
        "from nltk.tokenize import word_tokenize\n",
        "from nltk.corpus import stopwords\n",
        "from nltk.stem import SnowballStemmer\n",
        "# Load the Moroccan Darija dataset from JSON file\n",
        "stopwords_darija = pd.read_json(\"data/all_stop_words.json\")\n",
        "\n",
        "# Load the emoji dataset\n",
        "df_emoji = pd.read_csv(\"data/emojis.csv\")\n",
        "\n",
        "# Display the first few rows of the datasets\n",
        "print(\"Moroccan Darija Dataset:\")\n",
        "print(df_darija.head())\n",
        "\n",
        "print(\"\\nEmoji Dataset:\")\n",
        "print(df_emoji.head())\n"
      ]
    },
    {
      "cell_type": "markdown",
      "source": [
        "# Remove non-Arabic words , Tokenization , stopwords ,Stemming\n"
      ],
      "metadata": {
        "id": "-nEOiAXiyJxa"
      },
      "id": "-nEOiAXiyJxa"
    },
    {
      "cell_type": "code",
      "execution_count": null,
      "id": "ea856a55",
      "metadata": {
        "id": "ea856a55",
        "outputId": "ace13058-bf30-430f-fc50-2d2f74ebc92c"
      },
      "outputs": [
        {
          "name": "stdout",
          "output_type": "stream",
          "text": [
            "sample example : هما ديرين غير إشهار كون متزوجين و نوين  ستا يكم.. \n",
            "methode without stemming\n",
            "ديرين إشهار كون متزوجين نوين يكم\n",
            "methode with stemming\n",
            "ديرين إشهار كون متزوجين نوين يكم\n"
          ]
        }
      ],
      "source": [
        "\n",
        "\n",
        "stopwords_darija = pd.read_json(\"data/all_stop_words.json\").iloc[:, 0].tolist()\n",
        "\n",
        "\n",
        "# Function to clean and preprocess text without Stemming\n",
        "def clean_text(text):\n",
        "    # Remove non-Arabic words\n",
        "    text = re.sub(r'[^\\u0600-\\u06FF\\s]', '', text)\n",
        "    # Remove punctuation\n",
        "    text = re.sub(r'[^\\w\\s]', '', text)\n",
        "    # Tokenization\n",
        "    tokens = text.split()\n",
        "    # Remove stopwords\n",
        "    tokens = [word for word in tokens if word not in stopwords_darija]\n",
        "    # Join tokens back into text\n",
        "    clean_text = ' '.join(tokens)\n",
        "    return clean_text\n",
        "\n",
        "# with c\n",
        "\n",
        "def preprocess_text(text):\n",
        "    # Remove non-Arabic words\n",
        "    text = re.sub(r'[^\\u0600-\\u06FF\\s]', '', text)\n",
        "        # Remove punctuation\n",
        "    text = re.sub(r'[^\\w\\s]', '', text)\n",
        "    # Tokenization\n",
        "    tokens = word_tokenize(text.lower())\n",
        "    # Remove stopwords\n",
        "    tokens = [token for token in tokens if token not in stopwords_darija]\n",
        "    # Stemming - using SnowballStemmer for Arabic languages\n",
        "    stemmer = SnowballStemmer('arabic')\n",
        "    tokens = [stemmer.stem(token) for token in tokens]\n",
        "    return ' '.join(tokens)\n",
        "print ('sample example : هما ديرين غير إشهار كون متزوجين و نوين  ستا يكم.. ')\n",
        "print(\"methode without stemming\")\n",
        "print(clean_text( \"هما ديرين غير إشهار كون متزوجين و نوين  ستا يكم...\t\"))\n",
        "print(\"methode with stemming\")\n",
        "print(clean_text( \"هما ديرين غير إشهار كون متزوجين و نوين  ستا يكم...\t\"))"
      ]
    },
    {
      "cell_type": "code",
      "execution_count": null,
      "id": "fe79e48e",
      "metadata": {
        "id": "fe79e48e",
        "outputId": "80e91711-b1c3-4516-bf53-c4882307605c"
      },
      "outputs": [
        {
          "name": "stderr",
          "output_type": "stream",
          "text": [
            "C:\\Users\\sejja\\AppData\\Local\\Temp\\ipykernel_52512\\3462498783.py:2: SettingWithCopyWarning: \n",
            "A value is trying to be set on a copy of a slice from a DataFrame.\n",
            "Try using .loc[row_indexer,col_indexer] = value instead\n",
            "\n",
            "See the caveats in the documentation: https://pandas.pydata.org/pandas-docs/stable/user_guide/indexing.html#returning-a-view-versus-a-copy\n",
            "  datasetAr['cleaned_comment'] = df_merge['Comment'].apply(preprocess_text)\n",
            "C:\\Users\\sejja\\AppData\\Local\\Temp\\ipykernel_52512\\3462498783.py:5: SettingWithCopyWarning: \n",
            "A value is trying to be set on a copy of a slice from a DataFrame.\n",
            "Try using .loc[row_indexer,col_indexer] = value instead\n",
            "\n",
            "See the caveats in the documentation: https://pandas.pydata.org/pandas-docs/stable/user_guide/indexing.html#returning-a-view-versus-a-copy\n",
            "  datasetAr['clean_comment'] = datasetAr['Comment'].apply(clean_text)\n"
          ]
        }
      ],
      "source": [
        "\n",
        "# Apply preprocessing to the 'comment' column\n",
        "datasetAr['cleaned_comment'] = df_merge['Comment'].apply(preprocess_text)\n",
        "\n",
        "# Apply cleaning function to 'comment' column in df_merge\n",
        "datasetAr['clean_comment'] = datasetAr['Comment'].apply(clean_text)"
      ]
    },
    {
      "cell_type": "code",
      "execution_count": null,
      "id": "d5dc4af4",
      "metadata": {
        "id": "d5dc4af4",
        "outputId": "2da136b5-e640-46d9-e733-86e33e699710"
      },
      "outputs": [
        {
          "name": "stderr",
          "output_type": "stream",
          "text": [
            "C:\\Users\\sejja\\AppData\\Local\\Temp\\ipykernel_52512\\3663059545.py:11: SettingWithCopyWarning: \n",
            "A value is trying to be set on a copy of a slice from a DataFrame.\n",
            "Try using .loc[row_indexer,col_indexer] = value instead\n",
            "\n",
            "See the caveats in the documentation: https://pandas.pydata.org/pandas-docs/stable/user_guide/indexing.html#returning-a-view-versus-a-copy\n",
            "  datasetAr['clean_comment'] = datasetAr['clean_comment'].apply(replace_emoji)\n",
            "C:\\Users\\sejja\\AppData\\Local\\Temp\\ipykernel_52512\\3663059545.py:12: SettingWithCopyWarning: \n",
            "A value is trying to be set on a copy of a slice from a DataFrame.\n",
            "Try using .loc[row_indexer,col_indexer] = value instead\n",
            "\n",
            "See the caveats in the documentation: https://pandas.pydata.org/pandas-docs/stable/user_guide/indexing.html#returning-a-view-versus-a-copy\n",
            "  datasetAr['cleaned_comment'] = datasetAr['cleaned_comment'].apply(replace_emoji)\n"
          ]
        }
      ],
      "source": [
        "# Create dictionary for emoji replacement\n",
        "emoji_dict = dict(zip(df_emoji['emoji'], df_emoji['text']))\n",
        "\n",
        "# Function to replace emojis with their meanings\n",
        "def replace_emoji(text):\n",
        "    for emoji, meaning in emoji_dict.items():\n",
        "        text = text.replace(emoji, meaning)\n",
        "    return text\n",
        "\n",
        "# Apply emoji replacement to 'clean_comment' column\n",
        "datasetAr['clean_comment'] = datasetAr['clean_comment'].apply(replace_emoji)\n",
        "datasetAr['cleaned_comment'] = datasetAr['cleaned_comment'].apply(replace_emoji)"
      ]
    },
    {
      "cell_type": "code",
      "execution_count": null,
      "id": "1b0d7156",
      "metadata": {
        "id": "1b0d7156",
        "outputId": "7b8ab06e-02b4-4f5b-ae14-2c725a1b32a1"
      },
      "outputs": [
        {
          "data": {
            "text/html": [
              "<div>\n",
              "<style scoped>\n",
              "    .dataframe tbody tr th:only-of-type {\n",
              "        vertical-align: middle;\n",
              "    }\n",
              "\n",
              "    .dataframe tbody tr th {\n",
              "        vertical-align: top;\n",
              "    }\n",
              "\n",
              "    .dataframe thead th {\n",
              "        text-align: right;\n",
              "    }\n",
              "</style>\n",
              "<table border=\"1\" class=\"dataframe\">\n",
              "  <thead>\n",
              "    <tr style=\"text-align: right;\">\n",
              "      <th></th>\n",
              "      <th>Comment</th>\n",
              "      <th>Date</th>\n",
              "      <th>Language</th>\n",
              "      <th>source</th>\n",
              "      <th>cleaned_comment</th>\n",
              "      <th>clean_comment</th>\n",
              "    </tr>\n",
              "  </thead>\n",
              "  <tbody>\n",
              "    <tr>\n",
              "      <th>0</th>\n",
              "      <td>اصلا هما ديرين غير إشهار كون متزوجين ونوين يكم...</td>\n",
              "      <td>2024-03-29 00:00:00</td>\n",
              "      <td>ar</td>\n",
              "      <td>Facebook</td>\n",
              "      <td>اصل دير اشهار كون متزوج ونو يكمل طريق مغد مرا ...</td>\n",
              "      <td>اصلا ديرين إشهار كون متزوجين ونوين يكملو طريق ...</td>\n",
              "    </tr>\n",
              "    <tr>\n",
              "      <th>1</th>\n",
              "      <td>قال النبي ﷺ: إذا مات ابن آدم انقطع عمله إلا من...</td>\n",
              "      <td>2024-03-29 00:00:00</td>\n",
              "      <td>ar</td>\n",
              "      <td>Facebook</td>\n",
              "      <td>النب مات ابن ادم انقطع عمل صدق جار ينتفع ولد ص...</td>\n",
              "      <td>النبي مات ابن آدم انقطع عمله صدقة جارية ينتفع ...</td>\n",
              "    </tr>\n",
              "    <tr>\n",
              "      <th>2</th>\n",
              "      <td>هذا المشهد جعلني اتذكر حكمة قالها جنرال الماني...</td>\n",
              "      <td>2024-03-29 00:00:00</td>\n",
              "      <td>ar</td>\n",
              "      <td>Facebook</td>\n",
              "      <td>مشهد جعل اتذكر حكم قال جنرال مان حرب عالم لم ي...</td>\n",
              "      <td>المشهد جعلني اتذكر حكمة قالها جنرال الماني الح...</td>\n",
              "    </tr>\n",
              "    <tr>\n",
              "      <th>3</th>\n",
              "      <td>وناري معامن عايشين الناس وصلو للقمر و نتوما حا...</td>\n",
              "      <td>2024-03-28 00:00:00</td>\n",
              "      <td>ar</td>\n",
              "      <td>Facebook</td>\n",
              "      <td>نار معام عايش ناس صلو قمر نتوم حاض تزوج تفارق</td>\n",
              "      <td>وناري معامن عايشين الناس وصلو للقمر نتوما حاضي...</td>\n",
              "    </tr>\n",
              "    <tr>\n",
              "      <th>4</th>\n",
              "      <td>المهم راه شدات 10 مليون مؤخر الصداق</td>\n",
              "      <td>2024-03-31 12:00:00</td>\n",
              "      <td>ar</td>\n",
              "      <td>Facebook</td>\n",
              "      <td>مهم راه شدا موخر صداق</td>\n",
              "      <td>المهم راه شدات مؤخر الصداق</td>\n",
              "    </tr>\n",
              "  </tbody>\n",
              "</table>\n",
              "</div>"
            ],
            "text/plain": [
              "                                             Comment                 Date  \\\n",
              "0  اصلا هما ديرين غير إشهار كون متزوجين ونوين يكم...  2024-03-29 00:00:00   \n",
              "1  قال النبي ﷺ: إذا مات ابن آدم انقطع عمله إلا من...  2024-03-29 00:00:00   \n",
              "2  هذا المشهد جعلني اتذكر حكمة قالها جنرال الماني...  2024-03-29 00:00:00   \n",
              "3  وناري معامن عايشين الناس وصلو للقمر و نتوما حا...  2024-03-28 00:00:00   \n",
              "4                المهم راه شدات 10 مليون مؤخر الصداق  2024-03-31 12:00:00   \n",
              "\n",
              "  Language    source                                    cleaned_comment  \\\n",
              "0       ar  Facebook  اصل دير اشهار كون متزوج ونو يكمل طريق مغد مرا ...   \n",
              "1       ar  Facebook  النب مات ابن ادم انقطع عمل صدق جار ينتفع ولد ص...   \n",
              "2       ar  Facebook  مشهد جعل اتذكر حكم قال جنرال مان حرب عالم لم ي...   \n",
              "3       ar  Facebook      نار معام عايش ناس صلو قمر نتوم حاض تزوج تفارق   \n",
              "4       ar  Facebook                              مهم راه شدا موخر صداق   \n",
              "\n",
              "                                       clean_comment  \n",
              "0  اصلا ديرين إشهار كون متزوجين ونوين يكملو طريق ...  \n",
              "1  النبي مات ابن آدم انقطع عمله صدقة جارية ينتفع ...  \n",
              "2  المشهد جعلني اتذكر حكمة قالها جنرال الماني الح...  \n",
              "3  وناري معامن عايشين الناس وصلو للقمر نتوما حاضي...  \n",
              "4                         المهم راه شدات مؤخر الصداق  "
            ]
          },
          "execution_count": 111,
          "metadata": {},
          "output_type": "execute_result"
        }
      ],
      "source": [
        "datasetAr.head()"
      ]
    },
    {
      "cell_type": "code",
      "execution_count": null,
      "id": "a3888921",
      "metadata": {
        "id": "a3888921"
      },
      "outputs": [],
      "source": [
        "datasetAr=datasetAr[['Comment','Date','source','cleaned_comment','clean_comment']]\n",
        "datasetAr.to_csv('cleanforML_ar.csv')"
      ]
    },
    {
      "cell_type": "markdown",
      "source": [
        "## dataset_ar.csv:\n",
        "\n",
        "**Description:** This dataset contains comments collected from various sources (e.g., Facebook, Twitter, Hespress, YouTube) in Arabic language (Moroccan Darija).\n",
        "\n",
        "**Columns:**\n",
        "- `Comment`: The text of the comment.\n",
        "- `Date`: The date when the comment was posted.\n",
        "- `source`: The source platform where the comment was posted.\n",
        "\n",
        "**Purpose:** This dataset can be used for various text analysis tasks such as sentiment analysis, topic modeling, and classification specifically targeting Arabic-speaking audiences.\n",
        "\n",
        "---\n",
        "## dataset_fr.csv:\n",
        "\n",
        "**Description:** This dataset contains comments collected from various sources (e.g., Facebook, Twitter, Hespress, YouTube) in Frensh language (Moroccan Darija).\n",
        "\n",
        "**Columns:**\n",
        "- `Comment`: The text of the comment.\n",
        "- `Date`: The date when the comment was posted.\n",
        "- `source`: The source platform where the comment was posted.\n",
        "\n",
        "**Purpose:** This dataset can be used for various text analysis tasks such as sentiment analysis, topic modeling, and classification specifically targeting Frensh-speaking audiences.\n",
        "\n",
        "---\n",
        "\n",
        "## merge_data.csv:\n",
        "\n",
        "**Description:** This dataset is a merged dataset containing comments from different platforms (Facebook, Twitter, Hespress, YouTube) in both French and Arabic languages.\n",
        "\n",
        "**Columns:**\n",
        "- `Comment`: The text of the comment.\n",
        "- `Date`: The date when the comment was posted.\n",
        "- `Language`: The language of the comment (either 'fr' for French or 'ar' for Arabic).\n",
        "- `source`: The source platform where the comment was posted.\n",
        "\n",
        "**Purpose:** This dataset can be used for comparative analysis between French and Arabic comments, language identification tasks, and multilingual text analysis.\n",
        "\n",
        "---\n",
        "\n",
        "## cleanforML_ar.csv:\n",
        "\n",
        "**Description:** This dataset contains cleaned and preprocessed comments collected from various sources in Arabic language (Moroccan Darija) specifically prepared for machine learning tasks.\n",
        "\n",
        "**Columns:**\n",
        "- `Comment`: The original text of the comment.\n",
        "- `Date`: The date when the comment was posted.\n",
        "- `source`: The source platform where the comment was posted.\n",
        "- `cleaned_comment`: The cleaned and preprocessed version of the comment without stemming.\n",
        "- `clean_comment`: The cleaned and preprocessed version of the comment with stemming applied.\n",
        "\n",
        "**Purpose:** This dataset can be used for machine learning tasks such as sentiment analysis, classification, and language modeling after preprocessing and feature engineering.\n"
      ],
      "metadata": {
        "id": "yORQaL_In78Y"
      },
      "id": "yORQaL_In78Y"
    },
    {
      "cell_type": "code",
      "execution_count": null,
      "id": "aca3afa9",
      "metadata": {
        "id": "aca3afa9"
      },
      "outputs": [],
      "source": []
    }
  ],
  "metadata": {
    "kernelspec": {
      "display_name": "Python 3 (ipykernel)",
      "language": "python",
      "name": "python3"
    },
    "language_info": {
      "codemirror_mode": {
        "name": "ipython",
        "version": 3
      },
      "file_extension": ".py",
      "mimetype": "text/x-python",
      "name": "python",
      "nbconvert_exporter": "python",
      "pygments_lexer": "ipython3",
      "version": "3.11.3"
    },
    "colab": {
      "provenance": [],
      "collapsed_sections": [
        "yORQaL_In78Y"
      ]
    }
  },
  "nbformat": 4,
  "nbformat_minor": 5
}